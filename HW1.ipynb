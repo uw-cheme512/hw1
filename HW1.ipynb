{
 "cells": [
  {
   "cell_type": "markdown",
   "metadata": {},
   "source": [
    "#### 1.\n",
    "\n",
    "Consider the matrix \n",
    "\n",
    "$\\begin{bmatrix} \n",
    "1 & 2 & 0 \\\\\n",
    "1 & 2 & 2 \\\\\n",
    "0 & 2 & 1\n",
    "\\end{bmatrix} $\n",
    "\n",
    "1. Find the eigenvalues and eigenvectors of the matrix.\n",
    "2. Find the exponential matrix and inverse matrix.\n",
    "3. Find the singular value decomposition of the matrix."
   ]
  },
  {
   "cell_type": "markdown",
   "metadata": {},
   "source": [
    "#### 2.\n",
    "\n",
    "Solve the following differential equation for velocity $\\frac{dy}{dx}$ using the chain rule:\n",
    "\n",
    "$$\\frac{d^2y}{dx^2} = -\\frac{gR^2}{y^2}$$"
   ]
  },
  {
   "cell_type": "markdown",
   "metadata": {},
   "source": [
    "#### 3. \n",
    "\n",
    "Solve the exact differential equation\n",
    "\n",
    "$$\\frac{dy}{dx} = -\\frac{3x^2y + y^3}{3y^2x+ x^3}$$"
   ]
  },
  {
   "cell_type": "markdown",
   "metadata": {},
   "source": [
    "#### 4. \n",
    "\n",
    "Find the LaPlace transforms of the following functions:\n",
    "\n",
    "1. $\\sinh{at} + \\cosh{at}$\n",
    "2. $e^{at}\\sinh{at}$\n",
    "3. $\\frac{1}{1+t}$"
   ]
  },
  {
   "cell_type": "markdown",
   "metadata": {},
   "source": [
    "#### 5.\n",
    "\n",
    "Find the inverse LaPlace transforms of the following functions:\n",
    "\n",
    "1. $\\frac{1}{(s)(s+1)} - \\frac{1}{1+s^2}$\n",
    "2. $\\frac{1}{1+se^s}$\n",
    "3. $\\frac{1}{1+\\sqrt{s}}$"
   ]
  },
  {
   "cell_type": "markdown",
   "metadata": {},
   "source": [
    "#### 6.\n",
    "\n",
    "Solve the following equations numerically using Newton-Raphson method by hand. Show at least 4 iterations.\n",
    "\n",
    "1. $x^3 - 2x - \\frac{1}{x}=0$\n",
    "2. $x^2 + y^2 = 1$\n",
    "3. $x^2 - y^2 = \\frac{1}{4}$"
   ]
  },
  {
   "cell_type": "markdown",
   "metadata": {},
   "source": [
    "#### 7. \n",
    "\n",
    "Repeat 6. using a self-written Python function implementing Newton-Raphson.\n",
    "\n",
    "**Hint**. Something should not be quite right for 2. and 3. Either modify the function to account for the wierd behavior of these two functions or explain why unmodified Newton-Raphson struggles here. "
   ]
  },
  {
   "cell_type": "markdown",
   "metadata": {},
   "source": [
    "#### 8 (adapted from Math 584 HW)\n",
    "\n",
    "In class, we explained how singular value decomposition (SVD) can be used to reduce the dimensionality of given dataset. This kind of analysis can also be applied to image datasets. An image can be represented as a matrix where each value represents the intensity of a given pixel. Using SVD is one way to reduce the storage size.\n",
    "\n",
    "Compute the SVD of the provided black and white image (U, Sigma, and V). Try forming some low-rank approximations to the original image by selecting a subset of the original singular values/vectors. Show a few (at least 4) plots showing how the image quality increases as you increase the rank. How many do you need for the image to be recognizable?\n"
   ]
  },
  {
   "cell_type": "code",
   "execution_count": null,
   "metadata": {},
   "outputs": [],
   "source": []
  }
 ],
 "metadata": {
  "kernelspec": {
   "display_name": "Python 3",
   "language": "python",
   "name": "python3"
  },
  "language_info": {
   "codemirror_mode": {
    "name": "ipython",
    "version": 3
   },
   "file_extension": ".py",
   "mimetype": "text/x-python",
   "name": "python",
   "nbconvert_exporter": "python",
   "pygments_lexer": "ipython3",
   "version": "3.7.2"
  }
 },
 "nbformat": 4,
 "nbformat_minor": 2
}
